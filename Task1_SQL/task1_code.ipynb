{
 "cells": [
  {
   "attachments": {},
   "cell_type": "markdown",
   "metadata": {},
   "source": [
    "<h1>Task 1 - SQL: Problem statement</h1>\n",
    "\n",
    "You are given two tables\n",
    "\n",
    "TABLE **players**\n",
    " - player_id ( int unique)\n",
    " - group_id   (int)\n",
    "\n",
    "TABLE **matches**\n",
    "- match_id (int unique)\n",
    "- first_player  ( player_id) (int)\n",
    "- second_player (another player_id) (int)\n",
    "- first_score (int)\n",
    "- second_score (int)\n",
    "\t\n",
    "Task: Write a query to get the winner in each group. \n",
    "- The results should include group id and player id. \n",
    "- Players and matches have 1 to many relationship. \n",
    "    - Meaning 1 player can play 0 to many matches and\n",
    "    - In each match he can be the first or second player ( not the first and second at the same time)\n",
    "- The player who scored the maximum number of points in each match is the winner of the match.\n",
    "- The player who won the most matches within the group is the winner of the group.\n",
    "- If more than one such player take the one with the lowestID.\n",
    "\n",
    "Also if a player did not participate in any matches they are to be considered a winner. \n",
    "\n",
    "Assume that:\n",
    "- first_player and second_player belong to the same group.\n",
    "- groups are numbered with consecutive integers start from 1\n",
    "- every players from table matches occurs in table players\n",
    "- score is a value betwen 0 and 100000\n",
    "- there are most 100 player_id and at most 100 match_id"
   ]
  },
  {
   "cell_type": "code",
   "execution_count": 2,
   "metadata": {},
   "outputs": [],
   "source": [
    "import sqlite3"
   ]
  },
  {
   "cell_type": "code",
   "execution_count": 4,
   "metadata": {},
   "outputs": [],
   "source": [
    "# Connect to an in-memory SQLite database\n",
    "conn = sqlite3.connect(':memory:')\n",
    "cur = conn.cursor()"
   ]
  },
  {
   "cell_type": "code",
   "execution_count": 5,
   "metadata": {},
   "outputs": [
    {
     "data": {
      "text/plain": [
       "<sqlite3.Cursor at 0x1a2411b3c40>"
      ]
     },
     "execution_count": 5,
     "metadata": {},
     "output_type": "execute_result"
    }
   ],
   "source": [
    "# Create tables\n",
    "cur.execute('CREATE TABLE players (player_id INT UNIQUE, group_id INT);')\n",
    "cur.execute('CREATE TABLE matches (match_id INT UNIQUE, first_player INT, second_player INT, first_score INT, second_score INT);')"
   ]
  },
  {
   "cell_type": "code",
   "execution_count": 6,
   "metadata": {},
   "outputs": [],
   "source": [
    "# Insert test data into tables\n",
    "players_test_data = [\n",
    "    (20, 2),\n",
    "    (30, 1),\n",
    "    (40, 3),\n",
    "    (45, 1),\n",
    "    (50, 2),\n",
    "    (65, 1),\n",
    "]\n",
    "\n",
    "matches_test_data = [\n",
    "    (1, 30, 45, 10, 12),\n",
    "    (2, 20, 50, 5, 5),\n",
    "    (13, 65, 45, 10, 10),\n",
    "    (5, 30, 65, 3, 15),\n",
    "    (42, 45, 65, 8, 4),\n",
    "]\n",
    "\n",
    "for player_data in players_test_data:\n",
    "    cur.execute('INSERT INTO players VALUES (?, ?);', player_data)\n",
    "\n",
    "for match_data in matches_test_data:\n",
    "    cur.execute('INSERT INTO matches VALUES (?, ?, ?, ?, ?);', match_data)\n",
    "\n",
    "conn.commit()"
   ]
  },
  {
   "attachments": {},
   "cell_type": "markdown",
   "metadata": {},
   "source": [
    "**Solution plan** \n",
    "\n",
    "-  First create the winner for each match name it winner_id\n",
    "-  Note each match is unique.\n",
    "-  Since all players from matches table belong to player_id\n",
    "-  We join the winner for each match with the players. \n",
    "-  We need all players even those that we do not play any matches. (LEFT JOIN)\n",
    "-  Therefore some winner id will be missing. Will need to deal with NULL values. (COALESCE)\n",
    "-  Then we will count the winner player_ids within each group.\n",
    "-  The winner id that appears the most in each group is the winner from each group.\n"
   ]
  },
  {
   "cell_type": "code",
   "execution_count": 9,
   "metadata": {},
   "outputs": [],
   "source": [
    "solution_query = '''\n",
    "WITH winners AS(\n",
    "SELECT match_id,\n",
    "    CASE \n",
    "        WHEN first_score > second_score THEN first_player\n",
    "        WHEN first_score < second_score THEN second_player\n",
    "        WHEN (first_score = second_score) AND (first_player < second_player) THEN first_player\n",
    "        WHEN (first_score = second_score) AND (first_player > second_player) THEN second_player\n",
    "    END AS winner_id\n",
    "FROM matches \n",
    "         )\n",
    "\t\t \n",
    "SELECT group_id, winner_id\n",
    "FROM(\n",
    "\tSELECT group_id, winner_id, \n",
    "\tROW_NUMBER() OVER( PARTITION BY group_id ORDER BY winner_id_times_won DESC) AS ranked_by_winner_id_times_won\n",
    "\tFROM(\n",
    "\t\tSELECT group_id, COALESCE(winner_id, p.player_id) as winner_id, COUNT(winner_id) as winner_id_times_won\n",
    "\t\tFROM players as p\n",
    "\t\tLEFT JOIN winners as w\n",
    "\t\tON p.player_id = w.winner_id\n",
    "\t\tGROUP BY group_id, w.winner_id, p.player_id\n",
    "\t\tORDER BY group_id) AS winners_by_group\n",
    "\t) winners_by_group_ranked\n",
    "WHERE ranked_by_winner_id_times_won IN (1);\n",
    "'''"
   ]
  },
  {
   "cell_type": "code",
   "execution_count": 10,
   "metadata": {},
   "outputs": [
    {
     "name": "stdout",
     "output_type": "stream",
     "text": [
      "Group_id, Winner_id\n",
      "(1, 45)\n",
      "(2, 20)\n",
      "(3, 40)\n"
     ]
    }
   ],
   "source": [
    "# Execute the solution query and print the result\n",
    "cur.execute(solution_query)\n",
    "print(\"Group_id, Winner_id\")\n",
    "for row in cur.fetchall():\n",
    "    print(row)"
   ]
  },
  {
   "cell_type": "code",
   "execution_count": null,
   "metadata": {},
   "outputs": [],
   "source": [
    "# Close the connection\n",
    "conn.close()"
   ]
  },
  {
   "attachments": {},
   "cell_type": "markdown",
   "metadata": {},
   "source": [
    "Final thougts and tips:\n",
    "- Make sure you spend time understanding the problem. The actual problem description was more complicated with less info.\n",
    "- Pay attention to detail. Especially by which variables to sort the results. That usually were code goes wrong when you run it.\n",
    "- The platform had only the option for PostgreSQL.\n",
    "- In general when you practicing for SQL interviews is best to practice on Postgres or MySQL\n",
    "- I am using MS Server and there are quite a lot of differences between the two. \n",
    "- Some notable differences are in date functions and how MS Server handles CTEs.\n",
    "- So be sure to not fall into that trap and expect all sql options.\n",
    "\n",
    "- This task took me about 1h to complete. I was lucky it did not contain any date functions.\n",
    "- Found the problem statement a bit difficult to understand.\n",
    "\n",
    " - **Overall I think the skill required to solve this is intermediate to advanced SQL**."
   ]
  }
 ],
 "metadata": {
  "kernelspec": {
   "display_name": "Python 3",
   "language": "python",
   "name": "python3"
  },
  "language_info": {
   "codemirror_mode": {
    "name": "ipython",
    "version": 3
   },
   "file_extension": ".py",
   "mimetype": "text/x-python",
   "name": "python",
   "nbconvert_exporter": "python",
   "pygments_lexer": "ipython3",
   "version": "3.10.11"
  },
  "orig_nbformat": 4
 },
 "nbformat": 4,
 "nbformat_minor": 2
}
